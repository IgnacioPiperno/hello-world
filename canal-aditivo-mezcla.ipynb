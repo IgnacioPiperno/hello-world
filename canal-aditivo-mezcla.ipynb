{
 "cells": [
  {
   "cell_type": "markdown",
   "metadata": {},
   "source": [
    "# Mezcla de VA\n",
    "\n",
    "En forma genérica, tenemos $M$ una VA discreta llamada mezcladora, que toma valores $\\{1,\\dots,m\\}$, y $W_1,\\dots,W_m$ son VAs continuas o discretas. Además $M$ es independiente de cada $W_i$.\n",
    "\n",
    "Luego definimos $Y$ una nueva VA que es mezcla de las $W_i$ mediante la variable mezcladora $M$:\n",
    "\n",
    "\n",
    "\n",
    "$$Y = \\left\\{\\begin{array}{ll}\n",
    "              W_1 & \\textrm{si } M=1\\\\\n",
    "              \\vdots & \\vdots\\\\\n",
    "              W_m & \\textrm{si } M=m\n",
    "            \\end{array}\\right. \\rightarrow Y|_{M=m} = W_m\n",
    "            $$\n",
    "\n",
    "Gráficamente podemos representar a $Y$ con el siguiente esquema.\n",
    "\n",
    "<img src=\"mezcladora.png\" style=\"width:150px\">\n",
    "\n",
    "La variable $Y$ es la salida de un multiplexor o selector de datos. Las variables $\\{W_1,...,W_m\\}$ son las entradas, y $M$ es la variable que controla la llave selectora. Al fijar el valor de $M$ se selecciona que entrada será tomada por $Y$. La posición de la llave selectora es independiente de los valores de las entradas.\n",
    "\n",
    "Supongamos que las $W_i$ son VA continuas, entonces $Y$ es una VA continua ¿cuánto vale $f_Y(y)$?\n",
    "\n",
    "La función de distribución de $Y$ es:\n",
    "\n",
    "$$\n",
    "\\begin{aligned}\n",
    "F_Y(y) &= \\mathbb{P}[Y\\leq y] \\\\\n",
    "&=\\sum_{i=1}^m \\mathbb{P}[Y\\leq y | M=i] \\, \\mathbb{P}[M = i]\\\\\n",
    "&=\\sum_{i=1}^m \\mathbb{P}[W_i\\leq y] \\, \\mathbb{P}[M = i]\\\\\n",
    "&= \\sum_{i=1}^m F_{W_i}(y)\\, \\mathbb{P}[M=i]\n",
    "\\end{aligned}\n",
    "$$\n",
    "\n",
    "Como además supusimos que las $W_i$ son continuas:\n",
    "\n",
    "$$\n",
    "f_Y(y) = \\sum_{i=1}^m f_{W_i}(y)\\, \\mathbb{P}[M=i]\n",
    "$$\n",
    "\n",
    "### ¿Cuánto vale la media de la VA mezcla?\n",
    "\n",
    "Por definición de esperanza de una VA:\n",
    "\n",
    "$$\n",
    "\\begin{aligned}\n",
    "\\mathbb{E}[Y] &= \\int_{-\\infty}^{\\infty} y\\, f_Y(y) dy = \\int_{-\\infty}^{\\infty} y\\, \\sum_{i=1}^m f_{W_i}(y)\\, \\mathbb{P}[M=i] dy\\\\\n",
    "&= \\sum_{i=1}^m \\left(\\int_{-\\infty}^{\\infty} y\\,  f_{W_i}(y)\\, dy\\right) \\mathbb{P}[M=i]\\\\\n",
    "&= \\sum_{i=1}^m \\mathbb{E}[W_i] \\mathbb{P}[M=i]\n",
    "\\end{aligned}\n",
    "$$\n",
    "\n",
    "### ¿Cuánto vale la varianza de la VA mezcla?\n",
    "\n",
    "De acuerdo con el Teorema de Pitágoras: $\\mathbb{VAR}[Y] = \\mathbb{VAR}[\\mathbb{E}[Y|M]]+\\mathbb{E}[\\mathbb{VAR}[Y|M]]$. Usando esto:\n",
    "\n",
    "$$\n",
    "\\mathbb{VAR}[Y] = \\sum_{i=1}^{m} \\mathbb{VAR}[W_i] \\mathbb{P}[M=i] + \\sum_{i=1}^{M} \\left(\\mathbb{E}[W_i]-\\mathbb{E}[Y]\\right)^2\\, \\mathbb{P}[M=i]\n",
    "$$\n",
    "\n",
    "Veamos esto aplicado a un ejemplo...\n"
   ]
  },
  {
   "cell_type": "markdown",
   "metadata": {},
   "source": [
    "# Ejemplo: Canal Aditivo Gaussiano (AGN) (ver Ej. 4 de la guia 1)\n",
    "\n",
    "Se envía un símbolo $X$ por un canal de comunicaciones. El símbolo puede tomar dos valores: 1 ó 0. El efecto del canal de comunicaciones lo representamos como un ruido $N$ que se suma al símbolo enviado. El resultado es $Y$.\n",
    "\n",
    "Vamos a modelar la información enviada como VA Bernoulli $X \\sim Ber(p)$, con parámetro $p=0.5$:\n",
    "\n",
    "$$X = \\left\\{\\begin{array}{ll}\n",
    "              0 & \\textrm{con } p_X=1-p\\\\\n",
    "              1 & \\textrm{con } p_X=p\n",
    "            \\end{array}\\right.\n",
    "            $$\n",
    "\n",
    "Por otro lado, vamos a representar al canal de comunicaciones como $N \\sim \\mathcal{N}(0,\\sigma^2_N)$ con $\\sigma_N^2 = 0.1$. $X$ y $N$ son VA independientes. La salida del canal de comunicaciones en el receptor es una VA $Y = X + N$.\n",
    "\n",
    "<img src=\"canal.png\" style=\"width:200px\">\n",
    "Este canal recibe el nombre de Canal Aditivo Gaussiano, porque el efecto del canal es la adición de un ruido cuya distribución es gaussiana.\n",
    "\n",
    "A continuación, obtenemos la función de densidad de probabilidad (fdp) de $Y$ a partir de la noción de mezcla (ver Ej. 4 de la guia 1)."
   ]
  },
  {
   "cell_type": "markdown",
   "metadata": {},
   "source": [
    "## Resolución:\n",
    "\n",
    "Primero veamos cómo este problema se interpreta como una mezcla.  Escribimos la densidad de la variable recibida usando condicionales, como en la explicación de mezcla que acabamos de ver:\n",
    "$$f_Y(y) = f_{Y|X = 1}(y) p_X(1) + f_{Y|X=0} (y) p_X(0).$$\n",
    "\n",
    "Luego en la condicional podemos reemplazar a $Y$ como $Y=X+N$, es decir, por ejemplo:\n",
    "$$f_{Y|X=1} (y) = f_{X + N |X=1} (y).$$\n",
    "\n",
    "Al condicionar a respecto de $X$ podemos reemplazar a $X$ por su valor en la expresión de $Y$ es decir:\n",
    "$$f_{Y|X=0} (y) = f_{1 + N |X=1} (y) = f_{1 + N|X=1}(y).$$\n",
    "\n",
    "Notar que hemos reemplazado el valor de $X$ pero hemos conservado la condicional $|X=1$, que implica que estamos considerando la distribución de $N+1$ condiciononal a que $X=1$. \n",
    "\n",
    "A continuación usamos que el ruido $N$ y el símbolo transmitido $X$ son independientes, es decir:\n",
    "$$f_{1 + N|X=1}(y) = f_{1+N}.$$\n",
    "\n",
    "De esta forma vemos que:\n",
    "$$f_Y(y) = f_{N+1}(y) p_X(1) + f_N(y) p_X(0),$$\n",
    "y aca se ve la mezcla. La VA $X$ actúa como la mezcladora, mientras que las variables a la entrada del selector son $N$ y $N+1$, es decir:\n",
    "<img src=\"mezcladora2.png\" style=\"width:200px\">\n",
    "\n",
    "\n",
    "Una vez que identificamos a este modelo como una mezcla, conocemos automáticamente su densidad, media y varianza, y podemos extraer otras conclusiones que se derivan del modelo de mezcla.\n",
    "\n",
    "A continuación, validaremos las expresiones halladas mediante una simulación. Lo primero que podemos hacer es obtener realizaciones de $Y$ y con éstas generar un histograma."
   ]
  },
  {
   "cell_type": "code",
   "execution_count": 8,
   "metadata": {},
   "outputs": [],
   "source": [
    "# Importamos las librerias que vamos a usar\n",
    "import math as m\n",
    "import numpy as np\n",
    "import scipy.stats as st\n",
    "import matplotlib.pyplot as plt"
   ]
  },
  {
   "cell_type": "code",
   "execution_count": 2,
   "metadata": {},
   "outputs": [],
   "source": [
    "N = 10000\n",
    "p = 0.5\n",
    "sigma2_N = 0.1\n",
    "y = np.array([])"
   ]
  },
  {
   "cell_type": "code",
   "execution_count": 3,
   "metadata": {},
   "outputs": [],
   "source": [
    "for _ in range(N):\n",
    "    # realizaciones de X\n",
    "    x  = np.random.binomial(1,p)\n",
    "    # realizaciones de N0 ~ N(0,sigma2)\n",
    "    n0 = np.random.randn()*sigma2_N\n",
    "    # realizaciones de N0 ~ N(1,sigma2)\n",
    "    n1 = np.random.randn()*sigma2_N+1\n",
    "    # if x:\n",
    "    #     y = np.append(y,w1)\n",
    "    # else:\n",
    "    #     y = np.append(y,w0)\n",
    "    y = np.append(y, n0 if x else n1)"
   ]
  },
  {
   "cell_type": "code",
   "execution_count": 4,
   "metadata": {},
   "outputs": [
    {
     "data": {
      "image/png": "[encoded data removed]",
      "text/plain": [
       "<Figure size 432x288 with 1 Axes>"
      ]
     },
     "metadata": {
      "needs_background": "light"
     },
     "output_type": "display_data"
    }
   ],
   "source": [
    "plt.figure()\n",
    "n, bins, patches = plt.hist(y,100,density=True)\n",
    "plt.xlabel('y')\n",
    "plt.xlabel('f_Y(y)')\n",
    "plt.title('Mezcla de Gaussianas')\n",
    "plt.grid(True)"
   ]
  },
  {
   "cell_type": "markdown",
   "metadata": {},
   "source": [
    "Veamos si analíticamente llegamos al mismo resultados..."
   ]
  },
  {
   "cell_type": "markdown",
   "metadata": {},
   "source": [
    "Según lo que vimos al principio: \n",
    "$$\n",
    "\\begin{aligned}\n",
    "f_Y(y) &= \\sum_{x = 0}^{1} \\, f_{Y|X=x}(y) \\, \\mathbb{P}[X=x]\\\\\n",
    "&= \\sum_{x = 0}^{1} \\, f_{X+N|X=x}(y) \\, \\mathbb{P}[X=x]\\\\\n",
    "&= f_{N}(y) \\, (1-p) + f_{N+1}(y) \\, p\\\\\n",
    "\\end{aligned}\n",
    "$$\n",
    "\n",
    "Recordemos que $Y=X+N$ y que $X$ puede tomar sólo dos valores ($\\{0,1\\}$. La VA Y dado que X=0 ($Y|X=0$) se distribuye como $N$ es decir: $Y|X=0 \\sim \\mathcal{N}(0,\\sigma^2_N)$. Por otro lado, la VA $Y$ dado que $X=1$ se distribuye como $N+1$, es decir, le cambia la media a la gaussiana: $Y|X=1 \\sim \\mathcal{N}(1,\\sigma^2_N)$.\n",
    "\n",
    "Esto último nos permite escribir la fdp de $Y$ como ..."
   ]
  },
  {
   "cell_type": "code",
   "execution_count": 5,
   "metadata": {},
   "outputs": [
    {
     "data": {
      "image/png": "[encoded data removed]",
      "text/plain": [
       "<Figure size 432x288 with 1 Axes>"
      ]
     },
     "metadata": {
      "needs_background": "light"
     },
     "output_type": "display_data"
    }
   ],
   "source": [
    "y = np.linspace(-0.5,1.5,100)\n",
    "fy1 = st.norm.pdf(y,0,0.1) # N(0,0.1)\n",
    "fy2 = st.norm.pdf(y,1,0.1) # N(1,0.1)\n",
    "plt.plot(y,fy1*(1-p)+fy2*p,'r-')\n",
    "plt.grid()"
   ]
  },
  {
   "cell_type": "markdown",
   "metadata": {},
   "source": [
    "# Ejercicio\n",
    "\n",
    "1) Extienda el ejemplo anterior para el caso en que la variable $X$ puede tomar $n$ valores $x_1,...,x_n$, hallando la densidad de la señal recibida $Y$.\n",
    "\n",
    "2) Considere el caso particular en que los valores posibles son $\\{-2, -1, 1, 2\\}$ con probabilidades $1/4$ cada uno. Realice una simulación donde compare la densidad teórica con lo obtenido por simulación.4 ¿Cómo cambia la densidad si los valores de $X$ no son equiprobables?\n"
   ]
  },
  {
   "cell_type": "code",
   "execution_count": null,
   "metadata": {},
   "outputs": [],
   "source": []
  }
 ],
 "metadata": {
  "jupytext": {
   "cell_metadata_filter": "-all",
   "encoding": "# -*- coding: utf-8 -*-",
   "main_language": "python",
   "notebook_metadata_filter": "-all"
  },
  "kernelspec": {
   "display_name": "Python 3",
   "language": "python",
   "name": "python3"
  },
  "language_info": {
   "codemirror_mode": {
    "name": "ipython",
    "version": 3
   },
   "file_extension": ".py",
   "mimetype": "text/x-python",
   "name": "python",
   "nbconvert_exporter": "python",
   "pygments_lexer": "ipython3",
   "version": "3.7.6"
  }
 },
 "nbformat": 4,
 "nbformat_minor": 2
}
